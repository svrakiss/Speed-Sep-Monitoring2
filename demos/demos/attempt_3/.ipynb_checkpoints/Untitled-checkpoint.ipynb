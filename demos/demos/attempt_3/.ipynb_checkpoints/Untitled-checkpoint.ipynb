{
 "cells": [
  {
   "cell_type": "code",
   "execution_count": 3,
   "metadata": {},
   "outputs": [],
   "source": [
    "import sqlite3\n",
    "import pandas as pd\n",
    "\n",
    "# Create the connection\n",
    "cnx = sqlite3.connect(r'attempt_3.db3')"
   ]
  },
  {
   "cell_type": "code",
   "execution_count": 4,
   "metadata": {},
   "outputs": [],
   "source": [
    "# create the dataframe from a query\n",
    "df = pd.read_sql_query(\"SELECT * FROM messages\", cnx)"
   ]
  },
  {
   "cell_type": "code",
   "execution_count": 5,
   "metadata": {},
   "outputs": [
    {
     "data": {
      "text/html": [
       "<div>\n",
       "<style scoped>\n",
       "    .dataframe tbody tr th:only-of-type {\n",
       "        vertical-align: middle;\n",
       "    }\n",
       "\n",
       "    .dataframe tbody tr th {\n",
       "        vertical-align: top;\n",
       "    }\n",
       "\n",
       "    .dataframe thead th {\n",
       "        text-align: right;\n",
       "    }\n",
       "</style>\n",
       "<table border=\"1\" class=\"dataframe\">\n",
       "  <thead>\n",
       "    <tr style=\"text-align: right;\">\n",
       "      <th></th>\n",
       "      <th>id</th>\n",
       "      <th>topic_id</th>\n",
       "      <th>timestamp</th>\n",
       "      <th>data</th>\n",
       "    </tr>\n",
       "  </thead>\n",
       "  <tbody>\n",
       "    <tr>\n",
       "      <td>0</td>\n",
       "      <td>1</td>\n",
       "      <td>1</td>\n",
       "      <td>1584404505541053105</td>\n",
       "      <td>b'\\x00\\x01\\x00\\x00\\x19\\x18p^\\xd8;6\\x05\\x1b\\x00...</td>\n",
       "    </tr>\n",
       "    <tr>\n",
       "      <td>1</td>\n",
       "      <td>2</td>\n",
       "      <td>2</td>\n",
       "      <td>1584404505541420930</td>\n",
       "      <td>b'\\x00\\x01\\x00\\x00\\x19\\x18p^\\xd8;6\\x05\\x1b\\x00...</td>\n",
       "    </tr>\n",
       "    <tr>\n",
       "      <td>2</td>\n",
       "      <td>3</td>\n",
       "      <td>1</td>\n",
       "      <td>1584404505719654800</td>\n",
       "      <td>b'\\x00\\x01\\x00\\x00\\x19\\x18p^\\x04[V\\x12\\x1b\\x00...</td>\n",
       "    </tr>\n",
       "    <tr>\n",
       "      <td>3</td>\n",
       "      <td>4</td>\n",
       "      <td>2</td>\n",
       "      <td>1584404505719899570</td>\n",
       "      <td>b'\\x00\\x01\\x00\\x00\\x19\\x18p^\\x04[V\\x12\\x1b\\x00...</td>\n",
       "    </tr>\n",
       "    <tr>\n",
       "      <td>4</td>\n",
       "      <td>5</td>\n",
       "      <td>1</td>\n",
       "      <td>1584404505888758493</td>\n",
       "      <td>b'\\x00\\x01\\x00\\x00\\x19\\x18p^\\xe3,\\xb3\\x1f\\x1b\\...</td>\n",
       "    </tr>\n",
       "    <tr>\n",
       "      <td>...</td>\n",
       "      <td>...</td>\n",
       "      <td>...</td>\n",
       "      <td>...</td>\n",
       "      <td>...</td>\n",
       "    </tr>\n",
       "    <tr>\n",
       "      <td>1101</td>\n",
       "      <td>1102</td>\n",
       "      <td>2</td>\n",
       "      <td>1584404638581170588</td>\n",
       "      <td>b'\\x00\\x01\\x00\\x00\\x9e\\x18p^\\xe0\\x8d\\x9f\\r\\x1b...</td>\n",
       "    </tr>\n",
       "    <tr>\n",
       "      <td>1102</td>\n",
       "      <td>1103</td>\n",
       "      <td>1</td>\n",
       "      <td>1584404638836459938</td>\n",
       "      <td>b'\\x00\\x01\\x00\\x00\\x9e\\x18p^\\x13F\\xd8\\x19\\x1b\\...</td>\n",
       "    </tr>\n",
       "    <tr>\n",
       "      <td>1103</td>\n",
       "      <td>1104</td>\n",
       "      <td>2</td>\n",
       "      <td>1584404638837472113</td>\n",
       "      <td>b'\\x00\\x01\\x00\\x00\\x9e\\x18p^\\x13F\\xd8\\x19\\x1b\\...</td>\n",
       "    </tr>\n",
       "    <tr>\n",
       "      <td>1104</td>\n",
       "      <td>1105</td>\n",
       "      <td>1</td>\n",
       "      <td>1584404639042434640</td>\n",
       "      <td>b'\\x00\\x01\\x00\\x00\\x9e\\x18p^\\xe5\\x13h&amp;\\x1b\\x00...</td>\n",
       "    </tr>\n",
       "    <tr>\n",
       "      <td>1105</td>\n",
       "      <td>1106</td>\n",
       "      <td>2</td>\n",
       "      <td>1584404639042672698</td>\n",
       "      <td>b'\\x00\\x01\\x00\\x00\\x9e\\x18p^\\xe5\\x13h&amp;\\x1b\\x00...</td>\n",
       "    </tr>\n",
       "  </tbody>\n",
       "</table>\n",
       "<p>1106 rows × 4 columns</p>\n",
       "</div>"
      ],
      "text/plain": [
       "        id  topic_id            timestamp  \\\n",
       "0        1         1  1584404505541053105   \n",
       "1        2         2  1584404505541420930   \n",
       "2        3         1  1584404505719654800   \n",
       "3        4         2  1584404505719899570   \n",
       "4        5         1  1584404505888758493   \n",
       "...    ...       ...                  ...   \n",
       "1101  1102         2  1584404638581170588   \n",
       "1102  1103         1  1584404638836459938   \n",
       "1103  1104         2  1584404638837472113   \n",
       "1104  1105         1  1584404639042434640   \n",
       "1105  1106         2  1584404639042672698   \n",
       "\n",
       "                                                   data  \n",
       "0     b'\\x00\\x01\\x00\\x00\\x19\\x18p^\\xd8;6\\x05\\x1b\\x00...  \n",
       "1     b'\\x00\\x01\\x00\\x00\\x19\\x18p^\\xd8;6\\x05\\x1b\\x00...  \n",
       "2     b'\\x00\\x01\\x00\\x00\\x19\\x18p^\\x04[V\\x12\\x1b\\x00...  \n",
       "3     b'\\x00\\x01\\x00\\x00\\x19\\x18p^\\x04[V\\x12\\x1b\\x00...  \n",
       "4     b'\\x00\\x01\\x00\\x00\\x19\\x18p^\\xe3,\\xb3\\x1f\\x1b\\...  \n",
       "...                                                 ...  \n",
       "1101  b'\\x00\\x01\\x00\\x00\\x9e\\x18p^\\xe0\\x8d\\x9f\\r\\x1b...  \n",
       "1102  b'\\x00\\x01\\x00\\x00\\x9e\\x18p^\\x13F\\xd8\\x19\\x1b\\...  \n",
       "1103  b'\\x00\\x01\\x00\\x00\\x9e\\x18p^\\x13F\\xd8\\x19\\x1b\\...  \n",
       "1104  b'\\x00\\x01\\x00\\x00\\x9e\\x18p^\\xe5\\x13h&\\x1b\\x00...  \n",
       "1105  b'\\x00\\x01\\x00\\x00\\x9e\\x18p^\\xe5\\x13h&\\x1b\\x00...  \n",
       "\n",
       "[1106 rows x 4 columns]"
      ]
     },
     "execution_count": 5,
     "metadata": {},
     "output_type": "execute_result"
    }
   ],
   "source": [
    "df"
   ]
  },
  {
   "cell_type": "code",
   "execution_count": 10,
   "metadata": {},
   "outputs": [
    {
     "data": {
      "text/plain": [
       "b'\\x00\\x01\\x00\\x00\\x19\\x18p^\\x04[V\\x12\\x1b\\x00\\x00\\x00camera_color_optical_frame\\x00\\x00\\x03\\x00\\x00\\x00\\x07\\x00\\x00\\x00person\\x00\\x00\\x8e\\xfc\\xa7>K\\x00\\x00\\x00\\x14\\x01\\x00\\x00\\xc3\\x00\\x00\\x00.\\x01\\x00\\x00\\x00\\x00\\x00\\x00w\\xbe\\x1a\\xbf\\xd1\\x9a:=\\xb9\\x1e%?\\xc4\\x05\\x84=\\xf6\\x85\\xf8>W\\x0e\\xbd?\\x07\\x00\\x00\\x00person\\x00\\x00\\x8e\\xfc\\xa7>K\\x00\\x00\\x00\\x14\\x01\\x00\\x00\\xc3\\x00\\x00\\x00.\\x01\\x00\\x00\\x00\\x00\\x00\\x00w\\xbe\\x1a\\xbf\\xd1\\x9a:=\\xb9\\x1e%?\\xc4\\x05\\x84=\\xf6\\x85\\xf8>W\\x0e\\xbd?\\x07\\x00\\x00\\x00person\\x00\\xbe\\x8e\\xfc\\xa7>K\\x00\\x00\\x00\\x14\\x01\\x00\\x00\\xc3\\x00\\x00\\x00.\\x01\\x00\\x00\\x00\\x00\\x00\\x00w\\xbe\\x1a\\xbf\\xd1\\x9a:=\\xb9\\x1e%?\\xc4\\x05\\x84=\\xf6\\x85\\xf8>W\\x0e\\xbd?'"
      ]
     },
     "execution_count": 10,
     "metadata": {},
     "output_type": "execute_result"
    }
   ],
   "source": [
    "df.data[2]"
   ]
  },
  {
   "cell_type": "code",
   "execution_count": 9,
   "metadata": {},
   "outputs": [
    {
     "data": {
      "text/plain": [
       "id            int64\n",
       "topic_id      int64\n",
       "timestamp     int64\n",
       "data         object\n",
       "dtype: object"
      ]
     },
     "execution_count": 9,
     "metadata": {},
     "output_type": "execute_result"
    }
   ],
   "source": [
    "df.dtypes"
   ]
  },
  {
   "cell_type": "code",
   "execution_count": 12,
   "metadata": {},
   "outputs": [
    {
     "data": {
      "text/plain": [
       "'2020-03-17T10:38:27'"
      ]
     },
     "execution_count": 12,
     "metadata": {},
     "output_type": "execute_result"
    }
   ],
   "source": [
    "import datetime\n",
    "readable = datetime.datetime.fromtimestamp(1584455907).isoformat()\n",
    "readable"
   ]
  },
  {
   "cell_type": "code",
   "execution_count": 28,
   "metadata": {},
   "outputs": [],
   "source": [
    "for index in df.itertuples():\n",
    "    i = index[0]"
   ]
  },
  {
   "cell_type": "code",
   "execution_count": 1,
   "metadata": {},
   "outputs": [
    {
     "data": {
      "text/plain": [
       "<_io.TextIOWrapper name='attempt_3.db3' mode='r' encoding='cp936'>"
      ]
     },
     "execution_count": 1,
     "metadata": {},
     "output_type": "execute_result"
    }
   ],
   "source": [
    "open('attempt_3.db3')"
   ]
  },
  {
   "cell_type": "code",
   "execution_count": null,
   "metadata": {},
   "outputs": [],
   "source": []
  }
 ],
 "metadata": {
  "kernelspec": {
   "display_name": "Python 3",
   "language": "python",
   "name": "python3"
  },
  "language_info": {
   "codemirror_mode": {
    "name": "ipython",
    "version": 3
   },
   "file_extension": ".py",
   "mimetype": "text/x-python",
   "name": "python",
   "nbconvert_exporter": "python",
   "pygments_lexer": "ipython3",
   "version": "3.7.4"
  }
 },
 "nbformat": 4,
 "nbformat_minor": 2
}
