{
 "cells": [
  {
   "cell_type": "code",
   "execution_count": 25,
   "metadata": {},
   "outputs": [],
   "source": [
    "import sqlite3\n",
    "import pandas as pd\n",
    "\n",
    "# Create the connection\n",
    "cnx = sqlite3.connect(rb'attempt_3.db3')"
   ]
  },
  {
   "cell_type": "code",
   "execution_count": 26,
   "metadata": {},
   "outputs": [],
   "source": [
    "# create the dataframe from a query\n",
    "df = pd.read_sql_query(\"SELECT * FROM messages\", cnx)"
   ]
  },
  {
   "cell_type": "code",
   "execution_count": 27,
   "metadata": {},
   "outputs": [
    {
     "data": {
      "text/html": [
       "<div>\n",
       "<style scoped>\n",
       "    .dataframe tbody tr th:only-of-type {\n",
       "        vertical-align: middle;\n",
       "    }\n",
       "\n",
       "    .dataframe tbody tr th {\n",
       "        vertical-align: top;\n",
       "    }\n",
       "\n",
       "    .dataframe thead th {\n",
       "        text-align: right;\n",
       "    }\n",
       "</style>\n",
       "<table border=\"1\" class=\"dataframe\">\n",
       "  <thead>\n",
       "    <tr style=\"text-align: right;\">\n",
       "      <th></th>\n",
       "      <th>id</th>\n",
       "      <th>topic_id</th>\n",
       "      <th>timestamp</th>\n",
       "      <th>data</th>\n",
       "    </tr>\n",
       "  </thead>\n",
       "  <tbody>\n",
       "    <tr>\n",
       "      <td>0</td>\n",
       "      <td>1</td>\n",
       "      <td>1</td>\n",
       "      <td>1584404505541053105</td>\n",
       "      <td>b'\\x00\\x01\\x00\\x00\\x19\\x18p^\\xd8;6\\x05\\x1b\\x00...</td>\n",
       "    </tr>\n",
       "    <tr>\n",
       "      <td>1</td>\n",
       "      <td>2</td>\n",
       "      <td>2</td>\n",
       "      <td>1584404505541420930</td>\n",
       "      <td>b'\\x00\\x01\\x00\\x00\\x19\\x18p^\\xd8;6\\x05\\x1b\\x00...</td>\n",
       "    </tr>\n",
       "    <tr>\n",
       "      <td>2</td>\n",
       "      <td>3</td>\n",
       "      <td>1</td>\n",
       "      <td>1584404505719654800</td>\n",
       "      <td>b'\\x00\\x01\\x00\\x00\\x19\\x18p^\\x04[V\\x12\\x1b\\x00...</td>\n",
       "    </tr>\n",
       "    <tr>\n",
       "      <td>3</td>\n",
       "      <td>4</td>\n",
       "      <td>2</td>\n",
       "      <td>1584404505719899570</td>\n",
       "      <td>b'\\x00\\x01\\x00\\x00\\x19\\x18p^\\x04[V\\x12\\x1b\\x00...</td>\n",
       "    </tr>\n",
       "    <tr>\n",
       "      <td>4</td>\n",
       "      <td>5</td>\n",
       "      <td>1</td>\n",
       "      <td>1584404505888758493</td>\n",
       "      <td>b'\\x00\\x01\\x00\\x00\\x19\\x18p^\\xe3,\\xb3\\x1f\\x1b\\...</td>\n",
       "    </tr>\n",
       "    <tr>\n",
       "      <td>...</td>\n",
       "      <td>...</td>\n",
       "      <td>...</td>\n",
       "      <td>...</td>\n",
       "      <td>...</td>\n",
       "    </tr>\n",
       "    <tr>\n",
       "      <td>1101</td>\n",
       "      <td>1102</td>\n",
       "      <td>2</td>\n",
       "      <td>1584404638581170588</td>\n",
       "      <td>b'\\x00\\x01\\x00\\x00\\x9e\\x18p^\\xe0\\x8d\\x9f\\r\\x1b...</td>\n",
       "    </tr>\n",
       "    <tr>\n",
       "      <td>1102</td>\n",
       "      <td>1103</td>\n",
       "      <td>1</td>\n",
       "      <td>1584404638836459938</td>\n",
       "      <td>b'\\x00\\x01\\x00\\x00\\x9e\\x18p^\\x13F\\xd8\\x19\\x1b\\...</td>\n",
       "    </tr>\n",
       "    <tr>\n",
       "      <td>1103</td>\n",
       "      <td>1104</td>\n",
       "      <td>2</td>\n",
       "      <td>1584404638837472113</td>\n",
       "      <td>b'\\x00\\x01\\x00\\x00\\x9e\\x18p^\\x13F\\xd8\\x19\\x1b\\...</td>\n",
       "    </tr>\n",
       "    <tr>\n",
       "      <td>1104</td>\n",
       "      <td>1105</td>\n",
       "      <td>1</td>\n",
       "      <td>1584404639042434640</td>\n",
       "      <td>b'\\x00\\x01\\x00\\x00\\x9e\\x18p^\\xe5\\x13h&amp;\\x1b\\x00...</td>\n",
       "    </tr>\n",
       "    <tr>\n",
       "      <td>1105</td>\n",
       "      <td>1106</td>\n",
       "      <td>2</td>\n",
       "      <td>1584404639042672698</td>\n",
       "      <td>b'\\x00\\x01\\x00\\x00\\x9e\\x18p^\\xe5\\x13h&amp;\\x1b\\x00...</td>\n",
       "    </tr>\n",
       "  </tbody>\n",
       "</table>\n",
       "<p>1106 rows × 4 columns</p>\n",
       "</div>"
      ],
      "text/plain": [
       "        id  topic_id            timestamp  \\\n",
       "0        1         1  1584404505541053105   \n",
       "1        2         2  1584404505541420930   \n",
       "2        3         1  1584404505719654800   \n",
       "3        4         2  1584404505719899570   \n",
       "4        5         1  1584404505888758493   \n",
       "...    ...       ...                  ...   \n",
       "1101  1102         2  1584404638581170588   \n",
       "1102  1103         1  1584404638836459938   \n",
       "1103  1104         2  1584404638837472113   \n",
       "1104  1105         1  1584404639042434640   \n",
       "1105  1106         2  1584404639042672698   \n",
       "\n",
       "                                                   data  \n",
       "0     b'\\x00\\x01\\x00\\x00\\x19\\x18p^\\xd8;6\\x05\\x1b\\x00...  \n",
       "1     b'\\x00\\x01\\x00\\x00\\x19\\x18p^\\xd8;6\\x05\\x1b\\x00...  \n",
       "2     b'\\x00\\x01\\x00\\x00\\x19\\x18p^\\x04[V\\x12\\x1b\\x00...  \n",
       "3     b'\\x00\\x01\\x00\\x00\\x19\\x18p^\\x04[V\\x12\\x1b\\x00...  \n",
       "4     b'\\x00\\x01\\x00\\x00\\x19\\x18p^\\xe3,\\xb3\\x1f\\x1b\\...  \n",
       "...                                                 ...  \n",
       "1101  b'\\x00\\x01\\x00\\x00\\x9e\\x18p^\\xe0\\x8d\\x9f\\r\\x1b...  \n",
       "1102  b'\\x00\\x01\\x00\\x00\\x9e\\x18p^\\x13F\\xd8\\x19\\x1b\\...  \n",
       "1103  b'\\x00\\x01\\x00\\x00\\x9e\\x18p^\\x13F\\xd8\\x19\\x1b\\...  \n",
       "1104  b'\\x00\\x01\\x00\\x00\\x9e\\x18p^\\xe5\\x13h&\\x1b\\x00...  \n",
       "1105  b'\\x00\\x01\\x00\\x00\\x9e\\x18p^\\xe5\\x13h&\\x1b\\x00...  \n",
       "\n",
       "[1106 rows x 4 columns]"
      ]
     },
     "execution_count": 27,
     "metadata": {},
     "output_type": "execute_result"
    }
   ],
   "source": [
    "df"
   ]
  },
  {
   "cell_type": "code",
   "execution_count": 7,
   "metadata": {},
   "outputs": [],
   "source": [
    "test = df.data[2]"
   ]
  },
  {
   "cell_type": "code",
   "execution_count": 19,
   "metadata": {},
   "outputs": [
    {
     "ename": "NameError",
     "evalue": "name 'df' is not defined",
     "output_type": "error",
     "traceback": [
      "\u001b[1;31m---------------------------------------------------------------------------\u001b[0m",
      "\u001b[1;31mNameError\u001b[0m                                 Traceback (most recent call last)",
      "\u001b[1;32m<ipython-input-19-5cc0934cc03c>\u001b[0m in \u001b[0;36m<module>\u001b[1;34m\u001b[0m\n\u001b[1;32m----> 1\u001b[1;33m \u001b[0mdf\u001b[0m\u001b[1;33m.\u001b[0m\u001b[0mdtypes\u001b[0m\u001b[1;33m\u001b[0m\u001b[1;33m\u001b[0m\u001b[0m\n\u001b[0m",
      "\u001b[1;31mNameError\u001b[0m: name 'df' is not defined"
     ]
    }
   ],
   "source": [
    "df.dtypes"
   ]
  },
  {
   "cell_type": "code",
   "execution_count": null,
   "metadata": {},
   "outputs": [],
   "source": []
  },
  {
   "cell_type": "code",
   "execution_count": 12,
   "metadata": {},
   "outputs": [
    {
     "data": {
      "text/plain": [
       "'2020-03-17T10:38:27'"
      ]
     },
     "execution_count": 12,
     "metadata": {},
     "output_type": "execute_result"
    }
   ],
   "source": [
    "import datetime\n",
    "readable = datetime.datetime.fromtimestamp(1584455907).isoformat()\n",
    "readable"
   ]
  },
  {
   "cell_type": "code",
   "execution_count": 28,
   "metadata": {},
   "outputs": [],
   "source": [
    "for index in df.itertuples():\n",
    "    i = index[0]"
   ]
  },
  {
   "cell_type": "code",
   "execution_count": 24,
   "metadata": {
    "scrolled": false
   },
   "outputs": [
    {
     "name": "stdout",
     "output_type": "stream",
     "text": [
      "Connected to SQLite\n",
      "Id =  1 Time =  1584404505541053105\n",
      "Stored blob data into:  1.jpg \n",
      "\n",
      "sqlite connection is closed\n",
      "Connected to SQLite\n",
      "Id =  2 Time =  1584404505541420930\n",
      "Stored blob data into:  2.jpg \n",
      "\n",
      "sqlite connection is closed\n"
     ]
    }
   ],
   "source": [
    "import sqlite3\n",
    "\n",
    "def writeTofile(data, filename):\n",
    "    # Convert binary data to proper format and write it on Hard Disk\n",
    "    with open(filename, 'wb') as file:\n",
    "        file.write(data)\n",
    "    print(\"Stored blob data into: \", filename, \"\\n\")\n",
    "\n",
    "def readBlobData(empId):\n",
    "    try:\n",
    "        sqliteConnection = sqlite3.connect('attempt_3.db3')\n",
    "        cursor = sqliteConnection.cursor()\n",
    "        print(\"Connected to SQLite\")\n",
    "\n",
    "        sql_fetch_blob_query = \"\"\"SELECT * from messages where id = ?\"\"\"\n",
    "        cursor.execute(sql_fetch_blob_query, (empId,))\n",
    "        record = cursor.fetchall()\n",
    "        for row in record:\n",
    "            print(\"Id = \", row[0], \"Time = \", row[2])\n",
    "            name  = row[0]\n",
    "            time = row[2]\n",
    "            photo = row[3]\n",
    "            resumeFile = row[3]\n",
    "\n",
    "            photoPath = str(name) + \".jpg\"\n",
    "            writeTofile(photo, photoPath)\n",
    "\n",
    "        cursor.close()\n",
    "\n",
    "    except sqlite3.Error as error:\n",
    "        print(\"Failed to read blob data from sqlite table\", error)\n",
    "    finally:\n",
    "        if (sqliteConnection):\n",
    "            sqliteConnection.close()\n",
    "            print(\"sqlite connection is closed\")\n",
    "\n",
    "readBlobData(1)\n",
    "readBlobData(2)"
   ]
  },
  {
   "cell_type": "code",
   "execution_count": null,
   "metadata": {},
   "outputs": [],
   "source": []
  },
  {
   "cell_type": "code",
   "execution_count": null,
   "metadata": {},
   "outputs": [],
   "source": []
  }
 ],
 "metadata": {
  "kernelspec": {
   "display_name": "Python 3",
   "language": "python",
   "name": "python3"
  },
  "language_info": {
   "codemirror_mode": {
    "name": "ipython",
    "version": 3
   },
   "file_extension": ".py",
   "mimetype": "text/x-python",
   "name": "python",
   "nbconvert_exporter": "python",
   "pygments_lexer": "ipython3",
   "version": "3.7.4"
  }
 },
 "nbformat": 4,
 "nbformat_minor": 2
}
